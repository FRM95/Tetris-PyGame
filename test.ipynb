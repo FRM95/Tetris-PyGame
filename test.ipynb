{
 "cells": [
  {
   "cell_type": "code",
   "execution_count": 3,
   "metadata": {},
   "outputs": [],
   "source": [
    "PIECES = {\n",
    "    'I':[[1,1,1,1]],\n",
    "    'O':[[1,1],[1,1]],\n",
    "    'T':[[1,1,1],[0,1,0]],\n",
    "    'L':[[1,0],[1,0],[1,1]],\n",
    "    'J':[[0,1],[0,1],[1,1]],\n",
    "    'S':[[0,1,1],[1,1,0]],\n",
    "    'Z':[[1,1,0],[0,1,1]]\n",
    "}"
   ]
  },
  {
   "cell_type": "code",
   "execution_count": 4,
   "metadata": {},
   "outputs": [],
   "source": [
    "piece = PIECES.get('I')"
   ]
  },
  {
   "cell_type": "code",
   "execution_count": 5,
   "metadata": {},
   "outputs": [
    {
     "name": "stdout",
     "output_type": "stream",
     "text": [
      "0 0\n",
      "0 1\n",
      "0 2\n",
      "0 3\n"
     ]
    }
   ],
   "source": [
    "for i_row, row in enumerate(piece):\n",
    "    for i_col, col in enumerate(row):\n",
    "        if col == 1:\n",
    "            print(i_row,i_col)"
   ]
  }
 ],
 "metadata": {
  "kernelspec": {
   "display_name": "Python 3",
   "language": "python",
   "name": "python3"
  },
  "language_info": {
   "codemirror_mode": {
    "name": "ipython",
    "version": 3
   },
   "file_extension": ".py",
   "mimetype": "text/x-python",
   "name": "python",
   "nbconvert_exporter": "python",
   "pygments_lexer": "ipython3",
   "version": "3.11.4"
  }
 },
 "nbformat": 4,
 "nbformat_minor": 2
}
